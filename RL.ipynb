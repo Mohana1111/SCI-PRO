{
 "cells": [
  {
   "cell_type": "markdown",
   "id": "e6cbf9a0-504a-4d38-a45a-784abe80acb4",
   "metadata": {},
   "source": [
    "#### ****Import Dependencies****"
   ]
  },
  {
   "cell_type": "code",
   "execution_count": 2,
   "id": "fc077752-e6a8-45b6-bcb3-d035e72c121f",
   "metadata": {},
   "outputs": [
    {
     "name": "stdout",
     "output_type": "stream",
     "text": [
      "Defaulting to user installation because normal site-packages is not writeable\n",
      "Collecting stable-baselines3[extra]\n",
      "  Downloading stable_baselines3-2.3.2-py3-none-any.whl.metadata (5.1 kB)\n",
      "Collecting gymnasium<0.30,>=0.28.1 (from stable-baselines3[extra])\n",
      "  Downloading gymnasium-0.29.1-py3-none-any.whl.metadata (10 kB)\n",
      "Requirement already satisfied: numpy>=1.20 in /Users/mohana25/Library/Python/3.9/lib/python/site-packages (from stable-baselines3[extra]) (1.26.4)\n",
      "Collecting torch>=1.13 (from stable-baselines3[extra])\n",
      "  Downloading torch-2.3.1-cp39-none-macosx_11_0_arm64.whl.metadata (26 kB)\n",
      "Collecting cloudpickle (from stable-baselines3[extra])\n",
      "  Downloading cloudpickle-3.0.0-py3-none-any.whl.metadata (7.0 kB)\n",
      "Requirement already satisfied: pandas in /Users/mohana25/Library/Python/3.9/lib/python/site-packages (from stable-baselines3[extra]) (2.2.0)\n",
      "Requirement already satisfied: matplotlib in /Users/mohana25/Library/Python/3.9/lib/python/site-packages (from stable-baselines3[extra]) (3.8.3)\n",
      "Collecting opencv-python (from stable-baselines3[extra])\n",
      "  Downloading opencv_python-4.10.0.82-cp37-abi3-macosx_11_0_arm64.whl.metadata (20 kB)\n",
      "Collecting pygame (from stable-baselines3[extra])\n",
      "  Downloading pygame-2.5.2-cp39-cp39-macosx_11_0_arm64.whl.metadata (13 kB)\n",
      "Collecting tensorboard>=2.9.1 (from stable-baselines3[extra])\n",
      "  Downloading tensorboard-2.17.0-py3-none-any.whl.metadata (1.6 kB)\n",
      "Requirement already satisfied: psutil in /Users/mohana25/Library/Python/3.9/lib/python/site-packages (from stable-baselines3[extra]) (5.9.8)\n",
      "Collecting tqdm (from stable-baselines3[extra])\n",
      "  Downloading tqdm-4.66.4-py3-none-any.whl.metadata (57 kB)\n",
      "\u001b[2K     \u001b[38;2;114;156;31m━━━━━━━━━━━━━━━━━━━━━━━━━━━━━━━━━━━━━━━\u001b[0m \u001b[32m57.6/57.6 kB\u001b[0m \u001b[31m681.7 kB/s\u001b[0m eta \u001b[36m0:00:00\u001b[0mMB/s\u001b[0m eta \u001b[36m0:00:01\u001b[0m\n",
      "\u001b[?25hCollecting rich (from stable-baselines3[extra])\n",
      "  Downloading rich-13.7.1-py3-none-any.whl.metadata (18 kB)\n",
      "Collecting shimmy~=1.3.0 (from shimmy[atari]~=1.3.0; extra == \"extra\"->stable-baselines3[extra])\n",
      "  Downloading Shimmy-1.3.0-py3-none-any.whl.metadata (3.7 kB)\n",
      "Requirement already satisfied: pillow in /Users/mohana25/Library/Python/3.9/lib/python/site-packages (from stable-baselines3[extra]) (10.2.0)\n",
      "Collecting autorom~=0.6.1 (from autorom[accept-rom-license]~=0.6.1; extra == \"extra\"->stable-baselines3[extra])\n",
      "  Downloading AutoROM-0.6.1-py3-none-any.whl.metadata (2.4 kB)\n",
      "Collecting click (from autorom~=0.6.1->autorom[accept-rom-license]~=0.6.1; extra == \"extra\"->stable-baselines3[extra])\n",
      "  Downloading click-8.1.7-py3-none-any.whl.metadata (3.0 kB)\n",
      "Requirement already satisfied: requests in /Users/mohana25/Library/Python/3.9/lib/python/site-packages (from autorom~=0.6.1->autorom[accept-rom-license]~=0.6.1; extra == \"extra\"->stable-baselines3[extra]) (2.32.3)\n",
      "Collecting AutoROM.accept-rom-license (from autorom[accept-rom-license]~=0.6.1; extra == \"extra\"->stable-baselines3[extra])\n",
      "  Downloading AutoROM.accept-rom-license-0.6.1.tar.gz (434 kB)\n",
      "\u001b[2K     \u001b[38;2;114;156;31m━━━━━━━━━━━━━━━━━━━━━━━━━━━━━━━━━━━━━━━\u001b[0m \u001b[32m434.7/434.7 kB\u001b[0m \u001b[31m1.5 MB/s\u001b[0m eta \u001b[36m0:00:00\u001b[0mm eta \u001b[36m0:00:01\u001b[0m0:01\u001b[0m:01\u001b[0m\n",
      "\u001b[?25h  Installing build dependencies ... \u001b[?25ldone\n",
      "\u001b[?25h  Getting requirements to build wheel ... \u001b[?25ldone\n",
      "\u001b[?25h  Preparing metadata (pyproject.toml) ... \u001b[?25ldone\n",
      "\u001b[?25hRequirement already satisfied: typing-extensions>=4.3.0 in /Users/mohana25/Library/Python/3.9/lib/python/site-packages (from gymnasium<0.30,>=0.28.1->stable-baselines3[extra]) (4.11.0)\n",
      "Collecting farama-notifications>=0.0.1 (from gymnasium<0.30,>=0.28.1->stable-baselines3[extra])\n",
      "  Using cached Farama_Notifications-0.0.4-py3-none-any.whl.metadata (558 bytes)\n",
      "Requirement already satisfied: importlib-metadata>=4.8.0 in /Users/mohana25/Library/Python/3.9/lib/python/site-packages (from gymnasium<0.30,>=0.28.1->stable-baselines3[extra]) (7.1.0)\n",
      "Collecting ale-py~=0.8.1 (from shimmy[atari]~=1.3.0; extra == \"extra\"->stable-baselines3[extra])\n",
      "  Downloading ale_py-0.8.1-cp39-cp39-macosx_11_0_arm64.whl.metadata (8.1 kB)\n",
      "Collecting absl-py>=0.4 (from tensorboard>=2.9.1->stable-baselines3[extra])\n",
      "  Downloading absl_py-2.1.0-py3-none-any.whl.metadata (2.3 kB)\n",
      "Collecting grpcio>=1.48.2 (from tensorboard>=2.9.1->stable-baselines3[extra])\n",
      "  Downloading grpcio-1.64.1-cp39-cp39-macosx_10_9_universal2.whl.metadata (3.3 kB)\n",
      "Collecting markdown>=2.6.8 (from tensorboard>=2.9.1->stable-baselines3[extra])\n",
      "  Downloading Markdown-3.6-py3-none-any.whl.metadata (7.0 kB)\n",
      "Collecting protobuf!=4.24.0,<5.0.0,>=3.19.6 (from tensorboard>=2.9.1->stable-baselines3[extra])\n",
      "  Downloading protobuf-4.25.3-cp37-abi3-macosx_10_9_universal2.whl.metadata (541 bytes)\n",
      "Requirement already satisfied: setuptools>=41.0.0 in /Library/Developer/CommandLineTools/Library/Frameworks/Python3.framework/Versions/3.9/lib/python3.9/site-packages (from tensorboard>=2.9.1->stable-baselines3[extra]) (58.0.4)\n",
      "Requirement already satisfied: six>1.9 in /Library/Developer/CommandLineTools/Library/Frameworks/Python3.framework/Versions/3.9/lib/python3.9/site-packages (from tensorboard>=2.9.1->stable-baselines3[extra]) (1.15.0)\n",
      "Collecting tensorboard-data-server<0.8.0,>=0.7.0 (from tensorboard>=2.9.1->stable-baselines3[extra])\n",
      "  Downloading tensorboard_data_server-0.7.2-py3-none-any.whl.metadata (1.1 kB)\n",
      "Collecting werkzeug>=1.0.1 (from tensorboard>=2.9.1->stable-baselines3[extra])\n",
      "  Downloading werkzeug-3.0.3-py3-none-any.whl.metadata (3.7 kB)\n",
      "Requirement already satisfied: filelock in /Users/mohana25/Library/Python/3.9/lib/python/site-packages (from torch>=1.13->stable-baselines3[extra]) (3.14.0)\n",
      "Collecting sympy (from torch>=1.13->stable-baselines3[extra])\n",
      "  Downloading sympy-1.12.1-py3-none-any.whl.metadata (12 kB)\n",
      "Collecting networkx (from torch>=1.13->stable-baselines3[extra])\n",
      "  Downloading networkx-3.2.1-py3-none-any.whl.metadata (5.2 kB)\n",
      "Requirement already satisfied: jinja2 in /Users/mohana25/Library/Python/3.9/lib/python/site-packages (from torch>=1.13->stable-baselines3[extra]) (3.1.4)\n",
      "Collecting fsspec (from torch>=1.13->stable-baselines3[extra])\n",
      "  Downloading fsspec-2024.6.0-py3-none-any.whl.metadata (11 kB)\n",
      "Requirement already satisfied: contourpy>=1.0.1 in /Users/mohana25/Library/Python/3.9/lib/python/site-packages (from matplotlib->stable-baselines3[extra]) (1.2.0)\n",
      "Requirement already satisfied: cycler>=0.10 in /Users/mohana25/Library/Python/3.9/lib/python/site-packages (from matplotlib->stable-baselines3[extra]) (0.12.1)\n",
      "Requirement already satisfied: fonttools>=4.22.0 in /Users/mohana25/Library/Python/3.9/lib/python/site-packages (from matplotlib->stable-baselines3[extra]) (4.49.0)\n",
      "Requirement already satisfied: kiwisolver>=1.3.1 in /Users/mohana25/Library/Python/3.9/lib/python/site-packages (from matplotlib->stable-baselines3[extra]) (1.4.5)\n",
      "Requirement already satisfied: packaging>=20.0 in /Users/mohana25/Library/Python/3.9/lib/python/site-packages (from matplotlib->stable-baselines3[extra]) (23.2)\n",
      "Requirement already satisfied: pyparsing>=2.3.1 in /Users/mohana25/Library/Python/3.9/lib/python/site-packages (from matplotlib->stable-baselines3[extra]) (3.1.1)\n",
      "Requirement already satisfied: python-dateutil>=2.7 in /Users/mohana25/Library/Python/3.9/lib/python/site-packages (from matplotlib->stable-baselines3[extra]) (2.8.2)\n",
      "Requirement already satisfied: importlib-resources>=3.2.0 in /Users/mohana25/Library/Python/3.9/lib/python/site-packages (from matplotlib->stable-baselines3[extra]) (6.1.1)\n",
      "Requirement already satisfied: pytz>=2020.1 in /Users/mohana25/Library/Python/3.9/lib/python/site-packages (from pandas->stable-baselines3[extra]) (2024.1)\n",
      "Requirement already satisfied: tzdata>=2022.7 in /Users/mohana25/Library/Python/3.9/lib/python/site-packages (from pandas->stable-baselines3[extra]) (2024.1)\n",
      "Collecting markdown-it-py>=2.2.0 (from rich->stable-baselines3[extra])\n",
      "  Downloading markdown_it_py-3.0.0-py3-none-any.whl.metadata (6.9 kB)\n",
      "Requirement already satisfied: pygments<3.0.0,>=2.13.0 in /Users/mohana25/Library/Python/3.9/lib/python/site-packages (from rich->stable-baselines3[extra]) (2.17.2)\n",
      "Requirement already satisfied: zipp>=0.5 in /Users/mohana25/Library/Python/3.9/lib/python/site-packages (from importlib-metadata>=4.8.0->gymnasium<0.30,>=0.28.1->stable-baselines3[extra]) (3.17.0)\n",
      "Collecting mdurl~=0.1 (from markdown-it-py>=2.2.0->rich->stable-baselines3[extra])\n",
      "  Downloading mdurl-0.1.2-py3-none-any.whl.metadata (1.6 kB)\n",
      "Requirement already satisfied: MarkupSafe>=2.1.1 in /Users/mohana25/Library/Python/3.9/lib/python/site-packages (from werkzeug>=1.0.1->tensorboard>=2.9.1->stable-baselines3[extra]) (2.1.5)\n",
      "Requirement already satisfied: charset-normalizer<4,>=2 in /Users/mohana25/Library/Python/3.9/lib/python/site-packages (from requests->autorom~=0.6.1->autorom[accept-rom-license]~=0.6.1; extra == \"extra\"->stable-baselines3[extra]) (3.3.2)\n",
      "Requirement already satisfied: idna<4,>=2.5 in /Users/mohana25/Library/Python/3.9/lib/python/site-packages (from requests->autorom~=0.6.1->autorom[accept-rom-license]~=0.6.1; extra == \"extra\"->stable-baselines3[extra]) (3.7)\n",
      "Requirement already satisfied: urllib3<3,>=1.21.1 in /Users/mohana25/Library/Python/3.9/lib/python/site-packages (from requests->autorom~=0.6.1->autorom[accept-rom-license]~=0.6.1; extra == \"extra\"->stable-baselines3[extra]) (2.2.1)\n",
      "Requirement already satisfied: certifi>=2017.4.17 in /Users/mohana25/Library/Python/3.9/lib/python/site-packages (from requests->autorom~=0.6.1->autorom[accept-rom-license]~=0.6.1; extra == \"extra\"->stable-baselines3[extra]) (2024.6.2)\n",
      "Collecting mpmath<1.4.0,>=1.1.0 (from sympy->torch>=1.13->stable-baselines3[extra])\n",
      "  Downloading mpmath-1.3.0-py3-none-any.whl.metadata (8.6 kB)\n",
      "Downloading AutoROM-0.6.1-py3-none-any.whl (9.4 kB)\n",
      "Downloading gymnasium-0.29.1-py3-none-any.whl (953 kB)\n",
      "\u001b[2K   \u001b[38;2;114;156;31m━━━━━━━━━━━━━━━━━━━━━━━━━━━━━━━━━━━━━━━━\u001b[0m \u001b[32m953.9/953.9 kB\u001b[0m \u001b[31m1.3 MB/s\u001b[0m eta \u001b[36m0:00:00\u001b[0m[31m1.4 MB/s\u001b[0m eta \u001b[36m0:00:01\u001b[0m\n",
      "\u001b[?25hDownloading cloudpickle-3.0.0-py3-none-any.whl (20 kB)\n",
      "Downloading Shimmy-1.3.0-py3-none-any.whl (37 kB)\n",
      "Downloading tensorboard-2.17.0-py3-none-any.whl (5.5 MB)\n",
      "\u001b[2K   \u001b[38;2;114;156;31m━━━━━━━━━━━━━━━━━━━━━━━━━━━━━━━━━━━━━━━━\u001b[0m \u001b[32m5.5/5.5 MB\u001b[0m \u001b[31m1.5 MB/s\u001b[0m eta \u001b[36m0:00:00\u001b[0mm eta \u001b[36m0:00:01\u001b[0m0:01\u001b[0m:01\u001b[0m\n",
      "\u001b[?25hDownloading torch-2.3.1-cp39-none-macosx_11_0_arm64.whl (61.0 MB)\n",
      "\u001b[2K   \u001b[38;2;114;156;31m━━━━━━━━━━━━━━━━━━━━━━━━━━━━━━━━━━━━━━━━\u001b[0m \u001b[32m61.0/61.0 MB\u001b[0m \u001b[31m3.8 MB/s\u001b[0m eta \u001b[36m0:00:00\u001b[0mm eta \u001b[36m0:00:01\u001b[0m[36m0:00:01\u001b[0m0m\n",
      "\u001b[?25hDownloading opencv_python-4.10.0.82-cp37-abi3-macosx_11_0_arm64.whl (54.8 MB)\n",
      "\u001b[2K   \u001b[38;2;114;156;31m━━━━━━━━━━━━━━━━━━━━━━━━━━━━━━━━━━━━━━━━\u001b[0m \u001b[32m54.8/54.8 MB\u001b[0m \u001b[31m3.8 MB/s\u001b[0m eta \u001b[36m0:00:00\u001b[0mm eta \u001b[36m0:00:01\u001b[0m[36m0:00:01\u001b[0m\n",
      "\u001b[?25hDownloading pygame-2.5.2-cp39-cp39-macosx_11_0_arm64.whl (12.2 MB)\n",
      "\u001b[2K   \u001b[38;2;114;156;31m━━━━━━━━━━━━━━━━━━━━━━━━━━━━━━━━━━━━━━━━\u001b[0m \u001b[32m12.2/12.2 MB\u001b[0m \u001b[31m6.5 MB/s\u001b[0m eta \u001b[36m0:00:00\u001b[0mm eta \u001b[36m0:00:01\u001b[0m0:01\u001b[0m:01\u001b[0m\n",
      "\u001b[?25hDownloading rich-13.7.1-py3-none-any.whl (240 kB)\n",
      "\u001b[2K   \u001b[38;2;114;156;31m━━━━━━━━━━━━━━━━━━━━━━━━━━━━━━━━━━━━━━━━\u001b[0m \u001b[32m240.7/240.7 kB\u001b[0m \u001b[31m8.2 MB/s\u001b[0m eta \u001b[36m0:00:00\u001b[0m\n",
      "\u001b[?25hDownloading stable_baselines3-2.3.2-py3-none-any.whl (182 kB)\n",
      "\u001b[2K   \u001b[38;2;114;156;31m━━━━━━━━━━━━━━━━━━━━━━━━━━━━━━━━━━━━━━━━\u001b[0m \u001b[32m182.3/182.3 kB\u001b[0m \u001b[31m5.1 MB/s\u001b[0m eta \u001b[36m0:00:00\u001b[0m\n",
      "\u001b[?25hUsing cached tqdm-4.66.4-py3-none-any.whl (78 kB)\n",
      "Downloading absl_py-2.1.0-py3-none-any.whl (133 kB)\n",
      "\u001b[2K   \u001b[38;2;114;156;31m━━━━━━━━━━━━━━━━━━━━━━━━━━━━━━━━━━━━━━━━\u001b[0m \u001b[32m133.7/133.7 kB\u001b[0m \u001b[31m1.0 MB/s\u001b[0m eta \u001b[36m0:00:00\u001b[0mm eta \u001b[36m0:00:01\u001b[0m0:01\u001b[0m\n",
      "\u001b[?25hDownloading ale_py-0.8.1-cp39-cp39-macosx_11_0_arm64.whl (1.0 MB)\n",
      "\u001b[2K   \u001b[38;2;114;156;31m━━━━━━━━━━━━━━━━━━━━━━━━━━━━━━━━━━━━━━━━\u001b[0m \u001b[32m1.0/1.0 MB\u001b[0m \u001b[31m3.0 MB/s\u001b[0m eta \u001b[36m0:00:00\u001b[0mm eta \u001b[36m0:00:01\u001b[0m0:01\u001b[0mm\n",
      "\u001b[?25hUsing cached Farama_Notifications-0.0.4-py3-none-any.whl (2.5 kB)\n",
      "Downloading grpcio-1.64.1-cp39-cp39-macosx_10_9_universal2.whl (10.4 MB)\n",
      "\u001b[2K   \u001b[38;2;114;156;31m━━━━━━━━━━━━━━━━━━━━━━━━━━━━━━━━━━━━━━━━\u001b[0m \u001b[32m10.4/10.4 MB\u001b[0m \u001b[31m6.4 MB/s\u001b[0m eta \u001b[36m0:00:00\u001b[0mm eta \u001b[36m0:00:01\u001b[0m[36m0:00:01\u001b[0m\n",
      "\u001b[?25hDownloading Markdown-3.6-py3-none-any.whl (105 kB)\n",
      "\u001b[2K   \u001b[38;2;114;156;31m━━━━━━━━━━━━━━━━━━━━━━━━━━━━━━━━━━━━━━━━\u001b[0m \u001b[32m105.4/105.4 kB\u001b[0m \u001b[31m3.4 MB/s\u001b[0m eta \u001b[36m0:00:00\u001b[0m\n",
      "\u001b[?25hDownloading markdown_it_py-3.0.0-py3-none-any.whl (87 kB)\n",
      "\u001b[2K   \u001b[38;2;114;156;31m━━━━━━━━━━━━━━━━━━━━━━━━━━━━━━━━━━━━━━━━\u001b[0m \u001b[32m87.5/87.5 kB\u001b[0m \u001b[31m2.9 MB/s\u001b[0m eta \u001b[36m0:00:00\u001b[0m\n",
      "\u001b[?25hDownloading protobuf-4.25.3-cp37-abi3-macosx_10_9_universal2.whl (394 kB)\n",
      "\u001b[2K   \u001b[38;2;114;156;31m━━━━━━━━━━━━━━━━━━━━━━━━━━━━━━━━━━━━━━━━\u001b[0m \u001b[32m394.2/394.2 kB\u001b[0m \u001b[31m7.7 MB/s\u001b[0m eta \u001b[36m0:00:00\u001b[0m\u001b[36m0:00:01\u001b[0m\n",
      "\u001b[?25hDownloading tensorboard_data_server-0.7.2-py3-none-any.whl (2.4 kB)\n",
      "Downloading werkzeug-3.0.3-py3-none-any.whl (227 kB)\n",
      "\u001b[2K   \u001b[38;2;114;156;31m━━━━━━━━━━━━━━━━━━━━━━━━━━━━━━━━━━━━━━━━\u001b[0m \u001b[32m227.3/227.3 kB\u001b[0m \u001b[31m2.4 MB/s\u001b[0m eta \u001b[36m0:00:00\u001b[0mm eta \u001b[36m0:00:01\u001b[0m[36m0:00:01\u001b[0m\n",
      "\u001b[?25hUsing cached click-8.1.7-py3-none-any.whl (97 kB)\n",
      "Downloading fsspec-2024.6.0-py3-none-any.whl (176 kB)\n",
      "\u001b[2K   \u001b[38;2;114;156;31m━━━━━━━━━━━━━━━━━━━━━━━━━━━━━━━━━━━━━━━━\u001b[0m \u001b[32m176.9/176.9 kB\u001b[0m \u001b[31m2.4 MB/s\u001b[0m eta \u001b[36m0:00:00\u001b[0m MB/s\u001b[0m eta \u001b[36m0:00:01\u001b[0m\n",
      "\u001b[?25hDownloading networkx-3.2.1-py3-none-any.whl (1.6 MB)\n",
      "\u001b[2K   \u001b[38;2;114;156;31m━━━━━━━━━━━━━━━━━━━━━━━━━━━━━━━━━━━━━━━━\u001b[0m \u001b[32m1.6/1.6 MB\u001b[0m \u001b[31m8.9 MB/s\u001b[0m eta \u001b[36m0:00:00\u001b[0m0m eta \u001b[36m0:00:01\u001b[0m0:01\u001b[0m\n",
      "\u001b[?25hDownloading sympy-1.12.1-py3-none-any.whl (5.7 MB)\n",
      "\u001b[2K   \u001b[38;2;114;156;31m━━━━━━━━━━━━━━━━━━━━━━━━━━━━━━━━━━━━━━━━\u001b[0m \u001b[32m5.7/5.7 MB\u001b[0m \u001b[31m4.4 MB/s\u001b[0m eta \u001b[36m0:00:00\u001b[0mm eta \u001b[36m0:00:01\u001b[0m0:01\u001b[0m:01\u001b[0mm\n",
      "\u001b[?25hDownloading mdurl-0.1.2-py3-none-any.whl (10.0 kB)\n",
      "Downloading mpmath-1.3.0-py3-none-any.whl (536 kB)\n",
      "\u001b[2K   \u001b[38;2;114;156;31m━━━━━━━━━━━━━━━━━━━━━━━━━━━━━━━━━━━━━━━━\u001b[0m \u001b[32m536.2/536.2 kB\u001b[0m \u001b[31m5.1 MB/s\u001b[0m eta \u001b[36m0:00:00\u001b[0mm eta \u001b[36m0:00:01\u001b[0m00:01\u001b[0m\n",
      "\u001b[?25hBuilding wheels for collected packages: AutoROM.accept-rom-license\n",
      "  Building wheel for AutoROM.accept-rom-license (pyproject.toml) ... \u001b[?25ldone\n",
      "\u001b[?25h  Created wheel for AutoROM.accept-rom-license: filename=AutoROM.accept_rom_license-0.6.1-py3-none-any.whl size=446659 sha256=650b83241de5636d1f0d0da67bbda46e94f1384dd23143059de311f893214be2\n",
      "  Stored in directory: /Users/mohana25/Library/Caches/pip/wheels/b1/1f/f7/2da07cf4f81ea264bdaf043028749d88fe0c2227134a22cf80\n",
      "Successfully built AutoROM.accept-rom-license\n",
      "Installing collected packages: mpmath, farama-notifications, werkzeug, tqdm, tensorboard-data-server, sympy, pygame, protobuf, opencv-python, networkx, mdurl, grpcio, fsspec, cloudpickle, click, absl-py, torch, markdown-it-py, markdown, gymnasium, AutoROM.accept-rom-license, autorom, ale-py, tensorboard, stable-baselines3, shimmy, rich\n",
      "Successfully installed AutoROM.accept-rom-license-0.6.1 absl-py-2.1.0 ale-py-0.8.1 autorom-0.6.1 click-8.1.7 cloudpickle-3.0.0 farama-notifications-0.0.4 fsspec-2024.6.0 grpcio-1.64.1 gymnasium-0.29.1 markdown-3.6 markdown-it-py-3.0.0 mdurl-0.1.2 mpmath-1.3.0 networkx-3.2.1 opencv-python-4.10.0.82 protobuf-4.25.3 pygame-2.5.2 rich-13.7.1 shimmy-1.3.0 stable-baselines3-2.3.2 sympy-1.12.1 tensorboard-2.17.0 tensorboard-data-server-0.7.2 torch-2.3.1 tqdm-4.66.4 werkzeug-3.0.3\n"
     ]
    }
   ],
   "source": [
    "!pip install stable-baselines3\\[extra\\]"
   ]
  },
  {
   "cell_type": "code",
   "execution_count": 5,
   "id": "0daaed89-7bad-42e9-b991-01e27daf2f21",
   "metadata": {},
   "outputs": [
    {
     "name": "stdout",
     "output_type": "stream",
     "text": [
      "Defaulting to user installation because normal site-packages is not writeable\n",
      "Collecting gym[extra]\n",
      "  Downloading gym-0.26.2.tar.gz (721 kB)\n",
      "\u001b[2K     \u001b[38;2;114;156;31m━━━━━━━━━━━━━━━━━━━━━━━━━━━━━━━━━━━━━━━\u001b[0m \u001b[32m721.7/721.7 kB\u001b[0m \u001b[31m2.5 MB/s\u001b[0m eta \u001b[36m0:00:00\u001b[0m MB/s\u001b[0m eta \u001b[36m0:00:01\u001b[0m:01\u001b[0m\n",
      "\u001b[?25h  Installing build dependencies ... \u001b[?25ldone\n",
      "\u001b[?25h  Getting requirements to build wheel ... \u001b[?25ldone\n",
      "\u001b[?25h  Installing backend dependencies ... \u001b[?25ldone\n",
      "\u001b[?25h  Preparing metadata (pyproject.toml) ... \u001b[?25ldone\n",
      "\u001b[33mWARNING: gym 0.26.2 does not provide the extra 'extra'\u001b[0m\u001b[33m\n",
      "\u001b[0m\u001b[?25hRequirement already satisfied: numpy>=1.18.0 in /Users/mohana25/Library/Python/3.9/lib/python/site-packages (from gym[extra]) (1.26.4)\n",
      "Requirement already satisfied: cloudpickle>=1.2.0 in /Users/mohana25/Library/Python/3.9/lib/python/site-packages (from gym[extra]) (3.0.0)\n",
      "Collecting gym-notices>=0.0.4 (from gym[extra])\n",
      "  Downloading gym_notices-0.0.8-py3-none-any.whl.metadata (1.0 kB)\n",
      "Requirement already satisfied: importlib-metadata>=4.8.0 in /Users/mohana25/Library/Python/3.9/lib/python/site-packages (from gym[extra]) (7.1.0)\n",
      "Requirement already satisfied: zipp>=0.5 in /Users/mohana25/Library/Python/3.9/lib/python/site-packages (from importlib-metadata>=4.8.0->gym[extra]) (3.17.0)\n",
      "Downloading gym_notices-0.0.8-py3-none-any.whl (3.0 kB)\n",
      "Building wheels for collected packages: gym\n",
      "  Building wheel for gym (pyproject.toml) ... \u001b[?25ldone\n",
      "\u001b[?25h  Created wheel for gym: filename=gym-0.26.2-py3-none-any.whl size=827623 sha256=1bd0cff539a7624c2c0c06b17422ca289ce608190ca7e4326914a0d7c1eb25ba\n",
      "  Stored in directory: /Users/mohana25/Library/Caches/pip/wheels/af/2b/30/5e78b8b9599f2a2286a582b8da80594f654bf0e18d825a4405\n",
      "Successfully built gym\n",
      "Installing collected packages: gym-notices, gym\n",
      "Successfully installed gym-0.26.2 gym-notices-0.0.8\n",
      "Note: you may need to restart the kernel to use updated packages.\n"
     ]
    }
   ],
   "source": [
    "pip install gym\\[extra\\]"
   ]
  },
  {
   "cell_type": "code",
   "execution_count": 1,
   "id": "5387cb43-f52b-436e-aefe-790c38862644",
   "metadata": {},
   "outputs": [],
   "source": [
    "import os\n",
    "import gym\n",
    "from stable_baselines3 import PPO\n",
    "from stable_baselines3.common.vec_env import DummyVecEnv\n",
    "from stable_baselines3.common.evaluation import evaluate_policy"
   ]
  },
  {
   "cell_type": "markdown",
   "id": "e0a6d96e-1795-44cc-9e56-0838d9abb7ea",
   "metadata": {},
   "source": [
    "#### ***Load Environment***"
   ]
  },
  {
   "cell_type": "code",
   "execution_count": 2,
   "id": "52f94159-d6cf-421d-88b6-92e9dc135d6d",
   "metadata": {},
   "outputs": [],
   "source": [
    "environment_name = 'CartPole-v1'\n",
    "env = gym.make(environment_name, render_mode = \"human\")"
   ]
  },
  {
   "cell_type": "code",
   "execution_count": 48,
   "id": "75632349-8a53-4b21-b5d3-ee659542d6e7",
   "metadata": {},
   "outputs": [
    {
     "data": {
      "text/plain": [
       "'CartPole-v1'"
      ]
     },
     "execution_count": 48,
     "metadata": {},
     "output_type": "execute_result"
    }
   ],
   "source": [
    "environment_name"
   ]
  },
  {
   "cell_type": "code",
   "execution_count": 3,
   "id": "d22f406f-777c-4d93-a048-d7373cb30447",
   "metadata": {},
   "outputs": [
    {
     "name": "stderr",
     "output_type": "stream",
     "text": [
      "/Users/mohana25/Library/Python/3.9/lib/python/site-packages/gym/utils/passive_env_checker.py:233: DeprecationWarning: `np.bool8` is a deprecated alias for `np.bool_`.  (Deprecated NumPy 1.24)\n",
      "  if not isinstance(terminated, (bool, np.bool8)):\n"
     ]
    },
    {
     "name": "stdout",
     "output_type": "stream",
     "text": [
      "Episode : 1, Score : 1.0\n",
      "Episode : 1, Score : 2.0\n",
      "Episode : 1, Score : 3.0\n",
      "Episode : 1, Score : 4.0\n",
      "Episode : 1, Score : 5.0\n",
      "Episode : 1, Score : 6.0\n",
      "Episode : 1, Score : 7.0\n",
      "Episode : 1, Score : 8.0\n",
      "Episode : 1, Score : 9.0\n",
      "Episode : 1, Score : 10.0\n",
      "Episode : 1, Score : 11.0\n",
      "Episode : 1, Score : 12.0\n",
      "Episode : 1, Score : 13.0\n",
      "Episode : 1, Score : 14.0\n",
      "Episode : 1, Score : 15.0\n",
      "Episode : 1, Score : 16.0\n",
      "Episode : 1, Score : 17.0\n",
      "Episode : 1, Score : 18.0\n",
      "Episode : 1, Score : 19.0\n",
      "Episode : 1, Score : 20.0\n",
      "Episode : 1, Score : 21.0\n",
      "Episode : 1, Score : 22.0\n",
      "Episode : 1, Score : 23.0\n",
      "Episode : 1, Score : 24.0\n",
      "Episode : 1, Score : 25.0\n",
      "Episode : 1, Score : 26.0\n",
      "Episode : 1, Score : 27.0\n",
      "Episode : 1, Score : 28.0\n",
      "Episode : 1, Score : 29.0\n",
      "Episode : 2, Score : 1.0\n",
      "Episode : 2, Score : 2.0\n",
      "Episode : 2, Score : 3.0\n",
      "Episode : 2, Score : 4.0\n",
      "Episode : 2, Score : 5.0\n",
      "Episode : 2, Score : 6.0\n",
      "Episode : 2, Score : 7.0\n",
      "Episode : 2, Score : 8.0\n",
      "Episode : 2, Score : 9.0\n",
      "Episode : 2, Score : 10.0\n",
      "Episode : 2, Score : 11.0\n",
      "Episode : 2, Score : 12.0\n",
      "Episode : 2, Score : 13.0\n",
      "Episode : 2, Score : 14.0\n",
      "Episode : 2, Score : 15.0\n",
      "Episode : 3, Score : 1.0\n",
      "Episode : 3, Score : 2.0\n",
      "Episode : 3, Score : 3.0\n",
      "Episode : 3, Score : 4.0\n",
      "Episode : 3, Score : 5.0\n",
      "Episode : 3, Score : 6.0\n",
      "Episode : 3, Score : 7.0\n",
      "Episode : 3, Score : 8.0\n",
      "Episode : 3, Score : 9.0\n",
      "Episode : 3, Score : 10.0\n",
      "Episode : 3, Score : 11.0\n",
      "Episode : 3, Score : 12.0\n",
      "Episode : 3, Score : 13.0\n",
      "Episode : 3, Score : 14.0\n",
      "Episode : 3, Score : 15.0\n",
      "Episode : 3, Score : 16.0\n",
      "Episode : 3, Score : 17.0\n",
      "Episode : 3, Score : 18.0\n",
      "Episode : 3, Score : 19.0\n",
      "Episode : 3, Score : 20.0\n",
      "Episode : 3, Score : 21.0\n",
      "Episode : 3, Score : 22.0\n",
      "Episode : 3, Score : 23.0\n",
      "Episode : 3, Score : 24.0\n",
      "Episode : 3, Score : 25.0\n",
      "Episode : 4, Score : 1.0\n",
      "Episode : 4, Score : 2.0\n",
      "Episode : 4, Score : 3.0\n",
      "Episode : 4, Score : 4.0\n",
      "Episode : 4, Score : 5.0\n",
      "Episode : 4, Score : 6.0\n",
      "Episode : 4, Score : 7.0\n",
      "Episode : 4, Score : 8.0\n",
      "Episode : 4, Score : 9.0\n",
      "Episode : 4, Score : 10.0\n",
      "Episode : 4, Score : 11.0\n",
      "Episode : 4, Score : 12.0\n",
      "Episode : 4, Score : 13.0\n",
      "Episode : 4, Score : 14.0\n",
      "Episode : 4, Score : 15.0\n",
      "Episode : 4, Score : 16.0\n",
      "Episode : 4, Score : 17.0\n",
      "Episode : 4, Score : 18.0\n",
      "Episode : 4, Score : 19.0\n",
      "Episode : 4, Score : 20.0\n",
      "Episode : 4, Score : 21.0\n",
      "Episode : 4, Score : 22.0\n",
      "Episode : 4, Score : 23.0\n",
      "Episode : 4, Score : 24.0\n",
      "Episode : 4, Score : 25.0\n",
      "Episode : 4, Score : 26.0\n",
      "Episode : 4, Score : 27.0\n",
      "Episode : 4, Score : 28.0\n",
      "Episode : 4, Score : 29.0\n",
      "Episode : 4, Score : 30.0\n",
      "Episode : 4, Score : 31.0\n",
      "Episode : 5, Score : 1.0\n",
      "Episode : 5, Score : 2.0\n",
      "Episode : 5, Score : 3.0\n",
      "Episode : 5, Score : 4.0\n",
      "Episode : 5, Score : 5.0\n",
      "Episode : 5, Score : 6.0\n",
      "Episode : 5, Score : 7.0\n",
      "Episode : 5, Score : 8.0\n",
      "Episode : 5, Score : 9.0\n",
      "Episode : 5, Score : 10.0\n",
      "Episode : 5, Score : 11.0\n",
      "Episode : 5, Score : 12.0\n",
      "Episode : 5, Score : 13.0\n",
      "Episode : 5, Score : 14.0\n",
      "Episode : 5, Score : 15.0\n",
      "Episode : 5, Score : 16.0\n",
      "Episode : 5, Score : 17.0\n",
      "Episode : 5, Score : 18.0\n",
      "Episode : 5, Score : 19.0\n",
      "Episode : 5, Score : 20.0\n",
      "Episode : 5, Score : 21.0\n",
      "Episode : 5, Score : 22.0\n",
      "Episode : 5, Score : 23.0\n",
      "Episode : 5, Score : 24.0\n",
      "Episode : 5, Score : 25.0\n",
      "Episode : 5, Score : 26.0\n",
      "Episode : 5, Score : 27.0\n"
     ]
    }
   ],
   "source": [
    "episodes = 5\n",
    "for episode in range(1, episodes+1):\n",
    "    state = env.reset()\n",
    "    done = False\n",
    "    score = 0\n",
    "\n",
    "    while not done :\n",
    "        env.render()\n",
    "        if done == True :\n",
    "            env.reset()\n",
    "        action = env.action_space.sample()\n",
    "        temp = env.step(action)\n",
    "        n_state = temp[0]\n",
    "        reward = temp[1]\n",
    "        done = temp[2]\n",
    "        info = temp[3]\n",
    "        score += reward\n",
    "        print(\"Episode : {}, Score : {}\".format(episode, score))"
   ]
  },
  {
   "cell_type": "code",
   "execution_count": 7,
   "id": "02ea09dd-0b71-42ee-9eb5-bad528c4fca9",
   "metadata": {},
   "outputs": [
    {
     "data": {
      "text/plain": [
       "(array([-0.3373942, -1.0192875,  0.4367937,  1.8024607], dtype=float32),\n",
       " 0.0,\n",
       " True,\n",
       " False,\n",
       " {})"
      ]
     },
     "execution_count": 7,
     "metadata": {},
     "output_type": "execute_result"
    }
   ],
   "source": [
    "env.step(action)"
   ]
  },
  {
   "cell_type": "code",
   "execution_count": 8,
   "id": "d779335f-bef9-4fad-b8fe-2a6f423ee9d6",
   "metadata": {},
   "outputs": [],
   "source": [
    "env.close()"
   ]
  },
  {
   "cell_type": "markdown",
   "id": "32086879-a37c-44a4-a643-60cc55cc8500",
   "metadata": {},
   "source": [
    "#### ***Understanding Environment***"
   ]
  },
  {
   "cell_type": "code",
   "execution_count": 16,
   "id": "4d35866f-8e3a-49ed-a4ae-94c2b650f186",
   "metadata": {},
   "outputs": [
    {
     "data": {
      "text/plain": [
       "Discrete(2)"
      ]
     },
     "execution_count": 16,
     "metadata": {},
     "output_type": "execute_result"
    }
   ],
   "source": [
    "env.action_space"
   ]
  },
  {
   "cell_type": "code",
   "execution_count": 18,
   "id": "9db0fd9b-4eb2-462f-8a13-bd4c1f42a0ff",
   "metadata": {},
   "outputs": [
    {
     "data": {
      "text/plain": [
       "1"
      ]
     },
     "execution_count": 18,
     "metadata": {},
     "output_type": "execute_result"
    }
   ],
   "source": [
    "env.action_space.sample()"
   ]
  },
  {
   "cell_type": "code",
   "execution_count": 19,
   "id": "6007a294-9f7a-47a8-8ad7-0459653f5b3c",
   "metadata": {},
   "outputs": [
    {
     "data": {
      "text/plain": [
       "Box([-4.8000002e+00 -3.4028235e+38 -4.1887903e-01 -3.4028235e+38], [4.8000002e+00 3.4028235e+38 4.1887903e-01 3.4028235e+38], (4,), float32)"
      ]
     },
     "execution_count": 19,
     "metadata": {},
     "output_type": "execute_result"
    }
   ],
   "source": [
    "env.observation_space"
   ]
  },
  {
   "cell_type": "code",
   "execution_count": 20,
   "id": "95f1d97c-4ff3-4ea9-ade8-fee9a8ecc25d",
   "metadata": {},
   "outputs": [
    {
     "data": {
      "text/plain": [
       "array([ 2.8118851e+00,  3.1841572e+38, -2.1160609e-01,  2.1250956e+38],\n",
       "      dtype=float32)"
      ]
     },
     "execution_count": 20,
     "metadata": {},
     "output_type": "execute_result"
    }
   ],
   "source": [
    "env.observation_space.sample()"
   ]
  },
  {
   "cell_type": "markdown",
   "id": "05bfafe9-86f7-47be-99e3-d63a8be81d42",
   "metadata": {},
   "source": [
    "#### ***Training our RL model***"
   ]
  },
  {
   "cell_type": "code",
   "execution_count": 9,
   "id": "a09f0b42-798a-4d18-9f3e-259fc07f1905",
   "metadata": {},
   "outputs": [],
   "source": [
    "log_path = os.path.join('Training','Logs')"
   ]
  },
  {
   "cell_type": "code",
   "execution_count": 6,
   "id": "07d37c45-8e95-41ea-a3c9-c5553c06dcf6",
   "metadata": {},
   "outputs": [
    {
     "data": {
      "text/plain": [
       "'Training/Logs'"
      ]
     },
     "execution_count": 6,
     "metadata": {},
     "output_type": "execute_result"
    }
   ],
   "source": [
    "log_path"
   ]
  },
  {
   "cell_type": "code",
   "execution_count": 10,
   "id": "b3d53ed5-4993-4edf-80de-82f2e7ad419d",
   "metadata": {},
   "outputs": [
    {
     "name": "stderr",
     "output_type": "stream",
     "text": [
      "/Users/mohana25/Library/Python/3.9/lib/python/site-packages/stable_baselines3/common/vec_env/patch_gym.py:49: UserWarning: You provided an OpenAI Gym environment. We strongly recommend transitioning to Gymnasium environments. Stable-Baselines3 is automatically wrapping your environments in a compatibility layer, which could potentially cause issues.\n",
      "  warnings.warn(\n"
     ]
    },
    {
     "name": "stdout",
     "output_type": "stream",
     "text": [
      "Using cpu device\n"
     ]
    }
   ],
   "source": [
    "env = gym.make(environment_name, render_mode='human')\n",
    "env = DummyVecEnv([lambda : env])\n",
    "model = PPO('MlpPolicy', env, verbose=1, tensorboard_log = log_path)"
   ]
  },
  {
   "cell_type": "code",
   "execution_count": 9,
   "id": "e898c0c4-e8fe-426d-8204-2a4459726fe0",
   "metadata": {},
   "outputs": [
    {
     "name": "stdout",
     "output_type": "stream",
     "text": [
      "Logging to Training/Logs/PPO_10\n"
     ]
    },
    {
     "name": "stderr",
     "output_type": "stream",
     "text": [
      "/Users/mohana25/Library/Python/3.9/lib/python/site-packages/gym/utils/passive_env_checker.py:233: DeprecationWarning: `np.bool8` is a deprecated alias for `np.bool_`.  (Deprecated NumPy 1.24)\n",
      "  if not isinstance(terminated, (bool, np.bool8)):\n"
     ]
    },
    {
     "name": "stdout",
     "output_type": "stream",
     "text": [
      "-----------------------------\n",
      "| time/              |      |\n",
      "|    fps             | 45   |\n",
      "|    iterations      | 1    |\n",
      "|    time_elapsed    | 44   |\n",
      "|    total_timesteps | 2048 |\n",
      "-----------------------------\n",
      "------------------------------------------\n",
      "| time/                   |              |\n",
      "|    fps                  | 44           |\n",
      "|    iterations           | 2            |\n",
      "|    time_elapsed         | 92           |\n",
      "|    total_timesteps      | 4096         |\n",
      "| train/                  |              |\n",
      "|    approx_kl            | 0.0071293865 |\n",
      "|    clip_fraction        | 0.0654       |\n",
      "|    clip_range           | 0.2          |\n",
      "|    entropy_loss         | -0.687       |\n",
      "|    explained_variance   | 0.000581     |\n",
      "|    learning_rate        | 0.0003       |\n",
      "|    loss                 | 7.55         |\n",
      "|    n_updates            | 10           |\n",
      "|    policy_gradient_loss | -0.00956     |\n",
      "|    value_loss           | 54           |\n",
      "------------------------------------------\n",
      "-----------------------------------------\n",
      "| time/                   |             |\n",
      "|    fps                  | 40          |\n",
      "|    iterations           | 3           |\n",
      "|    time_elapsed         | 150         |\n",
      "|    total_timesteps      | 6144        |\n",
      "| train/                  |             |\n",
      "|    approx_kl            | 0.009343648 |\n",
      "|    clip_fraction        | 0.0724      |\n",
      "|    clip_range           | 0.2         |\n",
      "|    entropy_loss         | -0.67       |\n",
      "|    explained_variance   | 0.104       |\n",
      "|    learning_rate        | 0.0003      |\n",
      "|    loss                 | 13.7        |\n",
      "|    n_updates            | 20          |\n",
      "|    policy_gradient_loss | -0.0188     |\n",
      "|    value_loss           | 32.6        |\n",
      "-----------------------------------------\n",
      "------------------------------------------\n",
      "| time/                   |              |\n",
      "|    fps                  | 39           |\n",
      "|    iterations           | 4            |\n",
      "|    time_elapsed         | 208          |\n",
      "|    total_timesteps      | 8192         |\n",
      "| train/                  |              |\n",
      "|    approx_kl            | 0.0100229625 |\n",
      "|    clip_fraction        | 0.103        |\n",
      "|    clip_range           | 0.2          |\n",
      "|    entropy_loss         | -0.628       |\n",
      "|    explained_variance   | 0.273        |\n",
      "|    learning_rate        | 0.0003       |\n",
      "|    loss                 | 24.4         |\n",
      "|    n_updates            | 30           |\n",
      "|    policy_gradient_loss | -0.0196      |\n",
      "|    value_loss           | 51.6         |\n",
      "------------------------------------------\n",
      "-----------------------------------------\n",
      "| time/                   |             |\n",
      "|    fps                  | 39          |\n",
      "|    iterations           | 5           |\n",
      "|    time_elapsed         | 261         |\n",
      "|    total_timesteps      | 10240       |\n",
      "| train/                  |             |\n",
      "|    approx_kl            | 0.010057374 |\n",
      "|    clip_fraction        | 0.0661      |\n",
      "|    clip_range           | 0.2         |\n",
      "|    entropy_loss         | -0.608      |\n",
      "|    explained_variance   | 0.274       |\n",
      "|    learning_rate        | 0.0003      |\n",
      "|    loss                 | 38.9        |\n",
      "|    n_updates            | 40          |\n",
      "|    policy_gradient_loss | -0.0154     |\n",
      "|    value_loss           | 64          |\n",
      "-----------------------------------------\n",
      "-----------------------------------------\n",
      "| time/                   |             |\n",
      "|    fps                  | 38          |\n",
      "|    iterations           | 6           |\n",
      "|    time_elapsed         | 318         |\n",
      "|    total_timesteps      | 12288       |\n",
      "| train/                  |             |\n",
      "|    approx_kl            | 0.008539802 |\n",
      "|    clip_fraction        | 0.0858      |\n",
      "|    clip_range           | 0.2         |\n",
      "|    entropy_loss         | -0.597      |\n",
      "|    explained_variance   | 0.478       |\n",
      "|    learning_rate        | 0.0003      |\n",
      "|    loss                 | 10.9        |\n",
      "|    n_updates            | 50          |\n",
      "|    policy_gradient_loss | -0.0167     |\n",
      "|    value_loss           | 53.9        |\n",
      "-----------------------------------------\n",
      "-----------------------------------------\n",
      "| time/                   |             |\n",
      "|    fps                  | 39          |\n",
      "|    iterations           | 7           |\n",
      "|    time_elapsed         | 367         |\n",
      "|    total_timesteps      | 14336       |\n",
      "| train/                  |             |\n",
      "|    approx_kl            | 0.009435283 |\n",
      "|    clip_fraction        | 0.0674      |\n",
      "|    clip_range           | 0.2         |\n",
      "|    entropy_loss         | -0.583      |\n",
      "|    explained_variance   | 0.46        |\n",
      "|    learning_rate        | 0.0003      |\n",
      "|    loss                 | 17.8        |\n",
      "|    n_updates            | 60          |\n",
      "|    policy_gradient_loss | -0.00906    |\n",
      "|    value_loss           | 61.3        |\n",
      "-----------------------------------------\n",
      "-----------------------------------------\n",
      "| time/                   |             |\n",
      "|    fps                  | 39          |\n",
      "|    iterations           | 8           |\n",
      "|    time_elapsed         | 416         |\n",
      "|    total_timesteps      | 16384       |\n",
      "| train/                  |             |\n",
      "|    approx_kl            | 0.010488685 |\n",
      "|    clip_fraction        | 0.106       |\n",
      "|    clip_range           | 0.2         |\n",
      "|    entropy_loss         | -0.577      |\n",
      "|    explained_variance   | 0.527       |\n",
      "|    learning_rate        | 0.0003      |\n",
      "|    loss                 | 16.6        |\n",
      "|    n_updates            | 70          |\n",
      "|    policy_gradient_loss | -0.0156     |\n",
      "|    value_loss           | 69.9        |\n",
      "-----------------------------------------\n",
      "------------------------------------------\n",
      "| time/                   |              |\n",
      "|    fps                  | 40           |\n",
      "|    iterations           | 9            |\n",
      "|    time_elapsed         | 460          |\n",
      "|    total_timesteps      | 18432        |\n",
      "| train/                  |              |\n",
      "|    approx_kl            | 0.0048615877 |\n",
      "|    clip_fraction        | 0.0358       |\n",
      "|    clip_range           | 0.2          |\n",
      "|    entropy_loss         | -0.565       |\n",
      "|    explained_variance   | 0.626        |\n",
      "|    learning_rate        | 0.0003       |\n",
      "|    loss                 | 21.5         |\n",
      "|    n_updates            | 80           |\n",
      "|    policy_gradient_loss | -0.00622     |\n",
      "|    value_loss           | 46.1         |\n",
      "------------------------------------------\n",
      "-----------------------------------------\n",
      "| time/                   |             |\n",
      "|    fps                  | 40          |\n",
      "|    iterations           | 10          |\n",
      "|    time_elapsed         | 504         |\n",
      "|    total_timesteps      | 20480       |\n",
      "| train/                  |             |\n",
      "|    approx_kl            | 0.004872349 |\n",
      "|    clip_fraction        | 0.0207      |\n",
      "|    clip_range           | 0.2         |\n",
      "|    entropy_loss         | -0.566      |\n",
      "|    explained_variance   | 0.948       |\n",
      "|    learning_rate        | 0.0003      |\n",
      "|    loss                 | 1.96        |\n",
      "|    n_updates            | 90          |\n",
      "|    policy_gradient_loss | -0.00403    |\n",
      "|    value_loss           | 16          |\n",
      "-----------------------------------------\n"
     ]
    },
    {
     "data": {
      "text/plain": [
       "<stable_baselines3.ppo.ppo.PPO at 0x168e96130>"
      ]
     },
     "execution_count": 9,
     "metadata": {},
     "output_type": "execute_result"
    }
   ],
   "source": [
    "model.learn(total_timesteps=20000)"
   ]
  },
  {
   "cell_type": "markdown",
   "id": "5266aef3-a4ab-4ed9-b1e8-04af4edfc7a6",
   "metadata": {},
   "source": [
    "#### ***Save and Reload model***"
   ]
  },
  {
   "cell_type": "code",
   "execution_count": 11,
   "id": "392c660d-0011-4d1c-a5cb-7ab9d1fc0524",
   "metadata": {},
   "outputs": [],
   "source": [
    "PPO_path = os.path.join('Training','Saved Models','PPO_Model_cartpole')"
   ]
  },
  {
   "cell_type": "code",
   "execution_count": 12,
   "id": "7c53bbb2-4c21-442d-97ec-afee7ff57fbb",
   "metadata": {},
   "outputs": [],
   "source": [
    "model.save(PPO_path)"
   ]
  },
  {
   "cell_type": "markdown",
   "id": "7edc3f90-b94b-49c7-b05f-40fd190c7f30",
   "metadata": {},
   "source": [
    "#### ***Evaluating model***"
   ]
  },
  {
   "cell_type": "code",
   "execution_count": 11,
   "id": "a0b70538-ce7b-45ef-a2c0-4a4346196d0c",
   "metadata": {},
   "outputs": [
    {
     "name": "stderr",
     "output_type": "stream",
     "text": [
      "/Users/mohana25/Library/Python/3.9/lib/python/site-packages/stable_baselines3/common/evaluation.py:67: UserWarning: Evaluation environment is not wrapped with a ``Monitor`` wrapper. This may result in reporting modified episode lengths and rewards, if other wrappers happen to modify these. Consider wrapping environment first with ``Monitor`` wrapper.\n",
      "  warnings.warn(\n",
      "/Users/mohana25/Library/Python/3.9/lib/python/site-packages/gym/utils/passive_env_checker.py:233: DeprecationWarning: `np.bool8` is a deprecated alias for `np.bool_`.  (Deprecated NumPy 1.24)\n",
      "  if not isinstance(terminated, (bool, np.bool8)):\n"
     ]
    },
    {
     "data": {
      "text/plain": [
       "(10.5, 1.02469507659596)"
      ]
     },
     "execution_count": 11,
     "metadata": {},
     "output_type": "execute_result"
    }
   ],
   "source": [
    "evaluate_policy(model, env, n_eval_episodes = 10, render = True)"
   ]
  },
  {
   "cell_type": "code",
   "execution_count": 12,
   "id": "17c26421-080a-40ee-b56a-728b6c652f77",
   "metadata": {},
   "outputs": [],
   "source": [
    "env.close()"
   ]
  },
  {
   "cell_type": "markdown",
   "id": "8f3febe7-e78d-4210-b89a-815df5e69e11",
   "metadata": {},
   "source": [
    "#### ***Test Model***"
   ]
  },
  {
   "cell_type": "code",
   "execution_count": 15,
   "id": "f1e528e9-64fa-4011-8f28-29131a6fb790",
   "metadata": {},
   "outputs": [
    {
     "name": "stdout",
     "output_type": "stream",
     "text": [
      "Episode : 1, Score : [1.]\n",
      "Episode : 1, Score : [2.]\n",
      "Episode : 1, Score : [3.]\n",
      "Episode : 1, Score : [4.]\n",
      "Episode : 1, Score : [5.]\n",
      "Episode : 1, Score : [6.]\n",
      "Episode : 1, Score : [7.]\n",
      "Episode : 1, Score : [8.]\n",
      "Episode : 1, Score : [9.]\n",
      "Episode : 1, Score : [10.]\n",
      "Episode : 1, Score : [11.]\n",
      "Episode : 1, Score : [12.]\n",
      "Episode : 1, Score : [13.]\n",
      "Episode : 1, Score : [14.]\n",
      "Episode : 1, Score : [15.]\n",
      "Episode : 1, Score : [16.]\n",
      "Episode : 1, Score : [17.]\n",
      "Episode : 1, Score : [18.]\n",
      "Episode : 1, Score : [19.]\n",
      "Episode : 1, Score : [20.]\n",
      "Episode : 1, Score : [21.]\n",
      "Episode : 1, Score : [22.]\n",
      "Episode : 1, Score : [23.]\n",
      "Episode : 1, Score : [24.]\n",
      "Episode : 1, Score : [25.]\n",
      "Episode : 1, Score : [26.]\n",
      "Episode : 1, Score : [27.]\n",
      "Episode : 1, Score : [28.]\n",
      "Episode : 1, Score : [29.]\n",
      "Episode : 1, Score : [30.]\n",
      "Episode : 1, Score : [31.]\n",
      "Episode : 1, Score : [32.]\n",
      "Episode : 1, Score : [33.]\n",
      "Episode : 1, Score : [34.]\n",
      "Episode : 1, Score : [35.]\n",
      "Episode : 1, Score : [36.]\n",
      "Episode : 1, Score : [37.]\n",
      "Episode : 1, Score : [38.]\n",
      "Episode : 1, Score : [39.]\n",
      "Episode : 1, Score : [40.]\n",
      "Episode : 1, Score : [41.]\n",
      "Episode : 1, Score : [42.]\n",
      "Episode : 1, Score : [43.]\n",
      "Episode : 1, Score : [44.]\n",
      "Episode : 1, Score : [45.]\n",
      "Episode : 1, Score : [46.]\n",
      "Episode : 1, Score : [47.]\n",
      "Episode : 1, Score : [48.]\n",
      "Episode : 1, Score : [49.]\n",
      "Episode : 1, Score : [50.]\n",
      "Episode : 1, Score : [51.]\n",
      "Episode : 1, Score : [52.]\n",
      "Episode : 1, Score : [53.]\n",
      "Episode : 1, Score : [54.]\n",
      "Episode : 1, Score : [55.]\n",
      "Episode : 1, Score : [56.]\n",
      "Episode : 1, Score : [57.]\n",
      "Episode : 1, Score : [58.]\n",
      "Episode : 1, Score : [59.]\n",
      "Episode : 1, Score : [60.]\n",
      "Episode : 1, Score : [61.]\n",
      "Episode : 1, Score : [62.]\n",
      "Episode : 1, Score : [63.]\n",
      "Episode : 1, Score : [64.]\n",
      "Episode : 1, Score : [65.]\n",
      "Episode : 1, Score : [66.]\n",
      "Episode : 1, Score : [67.]\n",
      "Episode : 1, Score : [68.]\n",
      "Episode : 1, Score : [69.]\n",
      "Episode : 1, Score : [70.]\n",
      "Episode : 1, Score : [71.]\n",
      "Episode : 1, Score : [72.]\n",
      "Episode : 1, Score : [73.]\n",
      "Episode : 2, Score : [1.]\n",
      "Episode : 2, Score : [2.]\n",
      "Episode : 2, Score : [3.]\n",
      "Episode : 2, Score : [4.]\n",
      "Episode : 2, Score : [5.]\n",
      "Episode : 2, Score : [6.]\n",
      "Episode : 2, Score : [7.]\n",
      "Episode : 2, Score : [8.]\n",
      "Episode : 2, Score : [9.]\n",
      "Episode : 2, Score : [10.]\n",
      "Episode : 2, Score : [11.]\n",
      "Episode : 2, Score : [12.]\n",
      "Episode : 2, Score : [13.]\n",
      "Episode : 2, Score : [14.]\n",
      "Episode : 2, Score : [15.]\n",
      "Episode : 2, Score : [16.]\n",
      "Episode : 2, Score : [17.]\n",
      "Episode : 2, Score : [18.]\n",
      "Episode : 2, Score : [19.]\n",
      "Episode : 2, Score : [20.]\n",
      "Episode : 2, Score : [21.]\n",
      "Episode : 2, Score : [22.]\n",
      "Episode : 2, Score : [23.]\n",
      "Episode : 2, Score : [24.]\n",
      "Episode : 2, Score : [25.]\n",
      "Episode : 2, Score : [26.]\n",
      "Episode : 2, Score : [27.]\n",
      "Episode : 2, Score : [28.]\n",
      "Episode : 2, Score : [29.]\n",
      "Episode : 2, Score : [30.]\n",
      "Episode : 2, Score : [31.]\n",
      "Episode : 3, Score : [1.]\n",
      "Episode : 3, Score : [2.]\n",
      "Episode : 3, Score : [3.]\n",
      "Episode : 3, Score : [4.]\n",
      "Episode : 3, Score : [5.]\n",
      "Episode : 3, Score : [6.]\n",
      "Episode : 3, Score : [7.]\n",
      "Episode : 3, Score : [8.]\n",
      "Episode : 3, Score : [9.]\n",
      "Episode : 3, Score : [10.]\n",
      "Episode : 3, Score : [11.]\n",
      "Episode : 3, Score : [12.]\n",
      "Episode : 3, Score : [13.]\n",
      "Episode : 3, Score : [14.]\n",
      "Episode : 3, Score : [15.]\n",
      "Episode : 3, Score : [16.]\n",
      "Episode : 3, Score : [17.]\n",
      "Episode : 3, Score : [18.]\n",
      "Episode : 3, Score : [19.]\n",
      "Episode : 3, Score : [20.]\n",
      "Episode : 3, Score : [21.]\n",
      "Episode : 3, Score : [22.]\n",
      "Episode : 3, Score : [23.]\n",
      "Episode : 3, Score : [24.]\n",
      "Episode : 3, Score : [25.]\n",
      "Episode : 4, Score : [1.]\n",
      "Episode : 4, Score : [2.]\n",
      "Episode : 4, Score : [3.]\n",
      "Episode : 4, Score : [4.]\n",
      "Episode : 4, Score : [5.]\n",
      "Episode : 4, Score : [6.]\n",
      "Episode : 4, Score : [7.]\n",
      "Episode : 4, Score : [8.]\n",
      "Episode : 4, Score : [9.]\n",
      "Episode : 4, Score : [10.]\n",
      "Episode : 4, Score : [11.]\n",
      "Episode : 4, Score : [12.]\n",
      "Episode : 4, Score : [13.]\n",
      "Episode : 4, Score : [14.]\n",
      "Episode : 4, Score : [15.]\n",
      "Episode : 4, Score : [16.]\n",
      "Episode : 4, Score : [17.]\n",
      "Episode : 4, Score : [18.]\n",
      "Episode : 5, Score : [1.]\n",
      "Episode : 5, Score : [2.]\n",
      "Episode : 5, Score : [3.]\n",
      "Episode : 5, Score : [4.]\n",
      "Episode : 5, Score : [5.]\n",
      "Episode : 5, Score : [6.]\n",
      "Episode : 5, Score : [7.]\n",
      "Episode : 5, Score : [8.]\n",
      "Episode : 5, Score : [9.]\n",
      "Episode : 5, Score : [10.]\n",
      "Episode : 5, Score : [11.]\n",
      "Episode : 5, Score : [12.]\n"
     ]
    }
   ],
   "source": [
    "episodes = 5\n",
    "for episode in range(1, episodes+1):\n",
    "    obs = env.reset()[0]\n",
    "    done = False\n",
    "    score = 0\n",
    "    \n",
    "    while not done :\n",
    "        env.render(mode='human')\n",
    "        action = model.predict(obs)\n",
    "        temp = env.step(action)\n",
    "        n_state = temp[0]\n",
    "        reward = temp[1]\n",
    "        done = temp[2]\n",
    "        info = temp[3]\n",
    "        score += reward\n",
    "        print(\"Episode : {}, Score : {}\".format(episode, score))"
   ]
  },
  {
   "cell_type": "code",
   "execution_count": 8,
   "id": "3f555364-4782-4329-a474-f39ddaaf2640",
   "metadata": {},
   "outputs": [],
   "source": [
    "env.close()"
   ]
  },
  {
   "cell_type": "code",
   "execution_count": 16,
   "id": "2afc758b-6af4-41ac-9cb3-c7ea2c91583e",
   "metadata": {},
   "outputs": [
    {
     "data": {
      "text/plain": [
       "(array([[-0.04002902, -0.16762948,  0.02754384,  0.3348883 ]],\n",
       "       dtype=float32),\n",
       " array([1.], dtype=float32),\n",
       " array([False]),\n",
       " [{'TimeLimit.truncated': False}])"
      ]
     },
     "execution_count": 16,
     "metadata": {},
     "output_type": "execute_result"
    }
   ],
   "source": [
    "env.step(action)"
   ]
  },
  {
   "cell_type": "code",
   "execution_count": null,
   "id": "586072e8-398c-4dee-acd6-40eb77e36e86",
   "metadata": {},
   "outputs": [],
   "source": []
  },
  {
   "cell_type": "markdown",
   "id": "12fd8f92-36a0-4958-bc89-a49c30dac2e3",
   "metadata": {},
   "source": [
    "#### ***Adding Callback at Training Stage*** ####"
   ]
  },
  {
   "cell_type": "code",
   "execution_count": 31,
   "id": "694341a8-10fc-4c69-8fb6-8bbf3302781b",
   "metadata": {},
   "outputs": [],
   "source": [
    "from stable_baselines3.common.callbacks import EvalCallback, StopTrainingOnRewardThreshold"
   ]
  },
  {
   "cell_type": "code",
   "execution_count": 33,
   "id": "38a39b97-0695-40df-972c-f45220a412e6",
   "metadata": {},
   "outputs": [],
   "source": [
    "save_path = os.path.join('Training', 'Saved Models')\n",
    "stop_callback = StopTrainingOnRewardThreshold(reward_threshold = 200, verbose = 1)\n",
    "eval_callback = EvalCallback(env,\n",
    "                             callback_on_new_best=stop_callback,\n",
    "                             eval_freq = 10000,\n",
    "                             best_model_save_path = save_path,\n",
    "                             verbose = 1)"
   ]
  },
  {
   "cell_type": "code",
   "execution_count": 34,
   "id": "a152f10c-fd64-4d6f-ae81-dafddcce43e2",
   "metadata": {},
   "outputs": [
    {
     "name": "stdout",
     "output_type": "stream",
     "text": [
      "Using cpu device\n"
     ]
    }
   ],
   "source": [
    "model = PPO('MlpPolicy', env, verbose=1, tensorboard_log = log_path)"
   ]
  },
  {
   "cell_type": "code",
   "execution_count": 36,
   "id": "4c234f05-489a-4628-ba09-d470d38c6d8e",
   "metadata": {},
   "outputs": [
    {
     "name": "stdout",
     "output_type": "stream",
     "text": [
      "Logging to Training/Logs/PPO_9\n",
      "-----------------------------\n",
      "| time/              |      |\n",
      "|    fps             | 41   |\n",
      "|    iterations      | 1    |\n",
      "|    time_elapsed    | 49   |\n",
      "|    total_timesteps | 2048 |\n",
      "-----------------------------\n",
      "-----------------------------------------\n",
      "| time/                   |             |\n",
      "|    fps                  | 41          |\n",
      "|    iterations           | 2           |\n",
      "|    time_elapsed         | 97          |\n",
      "|    total_timesteps      | 4096        |\n",
      "| train/                  |             |\n",
      "|    approx_kl            | 0.009409696 |\n",
      "|    clip_fraction        | 0.101       |\n",
      "|    clip_range           | 0.2         |\n",
      "|    entropy_loss         | -0.686      |\n",
      "|    explained_variance   | -0.0115     |\n",
      "|    learning_rate        | 0.0003      |\n",
      "|    loss                 | 7.49        |\n",
      "|    n_updates            | 10          |\n",
      "|    policy_gradient_loss | -0.0157     |\n",
      "|    value_loss           | 52.7        |\n",
      "-----------------------------------------\n",
      "----------------------------------------\n",
      "| time/                   |            |\n",
      "|    fps                  | 42         |\n",
      "|    iterations           | 3          |\n",
      "|    time_elapsed         | 144        |\n",
      "|    total_timesteps      | 6144       |\n",
      "| train/                  |            |\n",
      "|    approx_kl            | 0.00869127 |\n",
      "|    clip_fraction        | 0.0523     |\n",
      "|    clip_range           | 0.2        |\n",
      "|    entropy_loss         | -0.668     |\n",
      "|    explained_variance   | 0.0767     |\n",
      "|    learning_rate        | 0.0003     |\n",
      "|    loss                 | 19.9       |\n",
      "|    n_updates            | 20         |\n",
      "|    policy_gradient_loss | -0.0165    |\n",
      "|    value_loss           | 41.9       |\n",
      "----------------------------------------\n",
      "------------------------------------------\n",
      "| time/                   |              |\n",
      "|    fps                  | 42           |\n",
      "|    iterations           | 4            |\n",
      "|    time_elapsed         | 191          |\n",
      "|    total_timesteps      | 8192         |\n",
      "| train/                  |              |\n",
      "|    approx_kl            | 0.0085023595 |\n",
      "|    clip_fraction        | 0.0797       |\n",
      "|    clip_range           | 0.2          |\n",
      "|    entropy_loss         | -0.635       |\n",
      "|    explained_variance   | 0.212        |\n",
      "|    learning_rate        | 0.0003       |\n",
      "|    loss                 | 25           |\n",
      "|    n_updates            | 30           |\n",
      "|    policy_gradient_loss | -0.0183      |\n",
      "|    value_loss           | 56.1         |\n",
      "------------------------------------------\n"
     ]
    },
    {
     "name": "stderr",
     "output_type": "stream",
     "text": [
      "/Users/mohana25/Library/Python/3.9/lib/python/site-packages/stable_baselines3/common/evaluation.py:67: UserWarning: Evaluation environment is not wrapped with a ``Monitor`` wrapper. This may result in reporting modified episode lengths and rewards, if other wrappers happen to modify these. Consider wrapping environment first with ``Monitor`` wrapper.\n",
      "  warnings.warn(\n"
     ]
    },
    {
     "name": "stdout",
     "output_type": "stream",
     "text": [
      "Eval num_timesteps=10000, episode_reward=245.60 +/- 97.55\n",
      "Episode length: 245.60 +/- 97.55\n",
      "-----------------------------------------\n",
      "| eval/                   |             |\n",
      "|    mean_ep_length       | 246         |\n",
      "|    mean_reward          | 246         |\n",
      "| time/                   |             |\n",
      "|    total_timesteps      | 10000       |\n",
      "| train/                  |             |\n",
      "|    approx_kl            | 0.007653229 |\n",
      "|    clip_fraction        | 0.0759      |\n",
      "|    clip_range           | 0.2         |\n",
      "|    entropy_loss         | -0.611      |\n",
      "|    explained_variance   | 0.317       |\n",
      "|    learning_rate        | 0.0003      |\n",
      "|    loss                 | 32.9        |\n",
      "|    n_updates            | 40          |\n",
      "|    policy_gradient_loss | -0.0176     |\n",
      "|    value_loss           | 64.3        |\n",
      "-----------------------------------------\n",
      "New best mean reward!\n",
      "Stopping training because the mean reward 245.60  is above the threshold 200\n"
     ]
    },
    {
     "data": {
      "text/plain": [
       "<stable_baselines3.ppo.ppo.PPO at 0x2994405b0>"
      ]
     },
     "execution_count": 36,
     "metadata": {},
     "output_type": "execute_result"
    }
   ],
   "source": [
    "model.learn(total_timesteps = 20000, callback = eval_callback)"
   ]
  },
  {
   "cell_type": "code",
   "execution_count": null,
   "id": "d405b808-e277-44e3-938a-ab8f8d2578a4",
   "metadata": {},
   "outputs": [],
   "source": []
  },
  {
   "cell_type": "code",
   "execution_count": null,
   "id": "326ea26b-8220-4f9b-8fd7-a9aa26115125",
   "metadata": {},
   "outputs": [],
   "source": []
  },
  {
   "cell_type": "code",
   "execution_count": null,
   "id": "ef060abf-d303-47c3-9db3-935b6ea01c88",
   "metadata": {},
   "outputs": [],
   "source": []
  }
 ],
 "metadata": {
  "kernelspec": {
   "display_name": "Python 3 (ipykernel)",
   "language": "python",
   "name": "python3"
  },
  "language_info": {
   "codemirror_mode": {
    "name": "ipython",
    "version": 3
   },
   "file_extension": ".py",
   "mimetype": "text/x-python",
   "name": "python",
   "nbconvert_exporter": "python",
   "pygments_lexer": "ipython3",
   "version": "3.9.6"
  }
 },
 "nbformat": 4,
 "nbformat_minor": 5
}
